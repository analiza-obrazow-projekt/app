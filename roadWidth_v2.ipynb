{
 "cells": [
  {
   "cell_type": "code",
   "execution_count": 1,
   "id": "320c3c6c",
   "metadata": {},
   "outputs": [],
   "source": [
    "# Znajdź szerokość trasy w danym punkcie dla zbinaryzowanej mapy drogowej\n",
    "def measureLocalRoadWidth(road_map_bin, coordinates):\n",
    "    \n",
    "    R = 1\n",
    "    segments_count = 0\n",
    "    first_segment_found_iteration = -1 # moment \"pojawienia się\" pierwszego segmentu\n",
    "    current_iteration = 0\n",
    "    \n",
    "    # część wspólna brzegów i okręgu, dopóki nie istnieją co najmniej 2 segmenty\n",
    "    while segments_count < 2:\n",
    "\n",
    "        # pusty obrazek o analogicznych wymiarach, co mapa\n",
    "        road_map_frame = np.zeros(road_map_bin.shape, np.uint8)\n",
    "\n",
    "        # rysowanie okręgu o promieniu R\n",
    "        cv2.circle(road_map_frame, coordinates, R, (255,255,255), -1 );\n",
    "\n",
    "        # część wspólna z brzegami przy drodzę\n",
    "        road_map_circle_XOR = cv2.bitwise_xor(road_map_bin, road_map_frame)\n",
    "        intersection = cv2.bitwise_and(road_map_circle_XOR, road_map_frame)\n",
    "\n",
    "        # segmentacja części wspólnej i zapisanie ilość znalezionych segmentów\n",
    "        contours, hierarchy = cv2.findContours(intersection[:,:,0], cv2.RETR_LIST, cv2.CHAIN_APPROX_SIMPLE)\n",
    "\n",
    "        # zliczanie znalezionych konturów\n",
    "        segments_count = len(contours)\n",
    "\n",
    "        # sprawdzanie, czy pojawił się pierwszy kontur\n",
    "        if segments_count == 1 and first_segment_found_iteration == -1:\n",
    "            first_segment_found_iteration = current_iteration\n",
    "\n",
    "        current_iteration = current_iteration + 1\n",
    "        R = R + 1\n",
    "\n",
    "    # Sprawdzanie, czy oba segmenty zostały znalezione jednocześnie\n",
    "    if first_segment_found_iteration == -1:\n",
    "        first_segment_found_iteration = current_iteration\n",
    "\n",
    "    # Policzenie szerokości trasy w danym koordynacie\n",
    "    return (current_iteration - 1)*2 - (current_iteration - first_segment_found_iteration - 1)   "
   ]
  },
  {
   "cell_type": "code",
   "execution_count": 2,
   "id": "ef7b4490",
   "metadata": {},
   "outputs": [],
   "source": [
    "# Oblicza szerokość drogi dla całej mapy, z dokładnością stride\n",
    "# (stride=1 -> liczy szerokość dla każdego piksela na mapie)\n",
    "def getRoadWidthsOfEntireMap(road_map_bin, stride=6):\n",
    "    \n",
    "    result = np.zeros_like(road_map_bin)\n",
    "    NX, NY, _ = result.shape\n",
    "    for x in range(0, NX, stride):\n",
    "        for y in range(0, NY, stride):\n",
    "            if road_map_bin[x,y,0] != 0:\n",
    "                result[x,y] = measureLocalRoadWidth(road_map_bin, [x,y])\n",
    "                \n",
    "    return result              "
   ]
  },
  {
   "cell_type": "code",
   "execution_count": 3,
   "id": "a20a332f",
   "metadata": {},
   "outputs": [],
   "source": [
    "# zwraca obliczoną szerokość drogi dla najbliższego obliczonego punktu\n",
    "# wartość stride powinna być taka sama, jak przy funkcji getWidthsForEntireMap()\n",
    "def getNearestLocalRoadWidth(mapWithWidths, coordinates, stride):\n",
    "    \n",
    "    xcord, ycord = coordinates\n",
    "    if( xcord%stride != 0 ):\n",
    "        xcord = xcord - xcord%stride\n",
    "    if( ycord%stride != 0 ):\n",
    "        ycord = ycord - ycord%stride\n",
    "    \n",
    "    return mapWithWidths[xcord, ycord]\n",
    "    "
   ]
  },
  {
   "cell_type": "code",
   "execution_count": 4,
   "id": "6e759ce4",
   "metadata": {},
   "outputs": [],
   "source": [
    "import cv2\n",
    "import numpy as np\n",
    "\n",
    "# wczytanie mapy\n",
    "road_map = cv2.imread('road_map_512x512.png', cv2.COLOR_BGR2GRAY)\n",
    "\n",
    "# # binaryzacja mapy\n",
    "_, road_map_bin = cv2.threshold( road_map, 126, 255, cv2.THRESH_BINARY )\n",
    "\n",
    "################ ! To wykonuje się tylko raz dla całej mapy ! ##################\n",
    "stride = 6\n",
    "mapWithWidths = getRoadWidthsOfEntireMap(road_map_bin, stride)\n",
    "################################################################################"
   ]
  },
  {
   "cell_type": "code",
   "execution_count": 5,
   "id": "0691ce61",
   "metadata": {},
   "outputs": [],
   "source": [
    "################ ! To wykonuje się dla każdej trasy ! ##################\n",
    "\n",
    "# wczytanie współrzędnych wskazujących punkty trasy\n",
    "loaded_input = np.loadtxt(\"img.csv\", delimiter=' ', dtype=str)\n",
    "all_road_coordinates = []\n",
    "NX, NY = loaded_input.shape\n",
    "for x in range(NX):\n",
    "    for y in range(NY):\n",
    "        if loaded_input[x,y] == '1':\n",
    "            all_road_coordinates.append([x,y])\n",
    "            \n",
    "# output w takiej samej formie, co input, ale z wartościami będącymi szerokością trasy\n",
    "output = np.zeros_like(road_map_bin)\n",
    "for coordinates in all_road_coordinates:\n",
    "    X, Y = coordinates\n",
    "    output[X,Y] = getNearestLocalRoadWidth(road_map_bin, coordinates, stride)\n",
    "################################################################################"
   ]
  }
 ],
 "metadata": {
  "kernelspec": {
   "display_name": "Python 3 (ipykernel)",
   "language": "python",
   "name": "python3"
  },
  "language_info": {
   "codemirror_mode": {
    "name": "ipython",
    "version": 3
   },
   "file_extension": ".py",
   "mimetype": "text/x-python",
   "name": "python",
   "nbconvert_exporter": "python",
   "pygments_lexer": "ipython3",
   "version": "3.10.6"
  }
 },
 "nbformat": 4,
 "nbformat_minor": 5
}
